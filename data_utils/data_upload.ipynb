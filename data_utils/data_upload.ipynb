{
 "cells": [
  {
   "cell_type": "markdown",
   "id": "f359284c",
   "metadata": {},
   "source": [
    "baseline.ipynb<br>\n",
    ".. └ data<br>\n",
    ".... ├ train.json<br>\n",
    ".... ├ test.json<br>\n",
    ".... └ sample_submission.csv<br>"
   ]
  },
  {
   "cell_type": "markdown",
   "id": "ffe52546",
   "metadata": {},
   "source": [
    "# 사용 패키지"
   ]
  },
  {
   "cell_type": "code",
   "execution_count": 1,
   "id": "457a6a9a-ce8b-4b78-803e-966e11241cab",
   "metadata": {},
   "outputs": [],
   "source": [
    "# ### 서버(우분투)에 KoNLPy 설치하기: https://konlpy.org/ko/v0.5.2/install/\n",
    "\n",
    "# ### 1. jdk 설치\n",
    "# sudo apt-get install g++ openjdk-8-jdk python3-dev python3-pip curl\n",
    "\n",
    "# ### 2. konlpy 설치\n",
    "# python3 -m pip install --upgrade pip\n",
    "# python3 -m pip install konlpy\n",
    "\n",
    "# ### 3. Mecab 설치\n",
    "# sudo apt-get install curl git\n",
    "# bash <(curl -s https://raw.githubusercontent.com/konlpy/konlpy/master/scripts/mecab.sh)"
   ]
  },
  {
   "cell_type": "markdown",
   "id": "232810a4-0dbe-40d2-9d0e-76e3b8b9fbbc",
   "metadata": {},
   "source": [
    "### module 'tweepy' has no attribute 'StreamListener' 에러 발생 시\n",
    "- 아래 출력문으로 우선 tweepy 패키지가 설치되었는지 확인\n",
    "- print(tweepy.__version__)  # '4.10.0'\n",
    "\n",
    "설치되어 있다면, StreamListener 클래스가 Tweepy 버전4부터 Stream이란 클래스로 통합되어서 발생한 에러 [(참고)](https://docs.tweepy.org/en/stable/faq.html?highlight=streamlistener#where-did-streamlistener-go)\n",
    "- 버전 3 중 가장 최신 버전인 3.10.0으로 Tweepy의 버전을 낮춘다.\n",
    "- pip install tweepy==3.10.0"
   ]
  },
  {
   "cell_type": "code",
   "execution_count": 2,
   "id": "fab67ac8",
   "metadata": {},
   "outputs": [],
   "source": [
    "import pandas as pd\n",
    "import numpy as np\n",
    "import matplotlib.pyplot as plt\n",
    "import json\n",
    "import os\n",
    "import random\n",
    "import math\n",
    "import copy\n",
    "import gc\n",
    "from tqdm import tqdm\n",
    "from glob import glob\n",
    "from konlpy.tag import Mecab\n",
    "\n",
    "import torch\n",
    "from torch import nn\n",
    "from torch.utils.data import Dataset, DataLoader\n",
    "\n",
    "import warnings\n",
    "warnings.filterwarnings(action='ignore')"
   ]
  },
  {
   "cell_type": "markdown",
   "id": "4cac5c9f",
   "metadata": {},
   "source": [
    "## 랜덤 시드 고정"
   ]
  },
  {
   "cell_type": "code",
   "execution_count": 3,
   "id": "b1edf080",
   "metadata": {},
   "outputs": [],
   "source": [
    "def seed_everything(seed: int = 42):\n",
    "    random.seed(seed)\n",
    "    np.random.seed(seed)\n",
    "    os.environ[\"PYTHONHASHSEED\"] = str(seed)\n",
    "    torch.manual_seed(seed)\n",
    "    torch.cuda.manual_seed(seed)  # type: ignore\n",
    "    torch.backends.cudnn.deterministic = True  # type: ignore\n",
    "    torch.backends.cudnn.benchmark = True  # type: ignore"
   ]
  },
  {
   "cell_type": "code",
   "execution_count": 4,
   "id": "8f965932",
   "metadata": {},
   "outputs": [],
   "source": [
    "seed_everything(42)"
   ]
  },
  {
   "cell_type": "markdown",
   "id": "47e32791",
   "metadata": {},
   "source": [
    "# 데이터 로드"
   ]
  },
  {
   "cell_type": "code",
   "execution_count": 5,
   "id": "3683af59",
   "metadata": {},
   "outputs": [],
   "source": [
    "DIR = \"../data/raw_data\"\n",
    "TRAIN_SOURCE = os.path.join(DIR, \"dacon_train.json\")"
   ]
  },
  {
   "cell_type": "code",
   "execution_count": 6,
   "id": "cdd1171d",
   "metadata": {},
   "outputs": [],
   "source": [
    "with open(TRAIN_SOURCE) as f:\n",
    "    TRAIN_DATA = json.loads(f.read())"
   ]
  },
  {
   "cell_type": "code",
   "execution_count": 7,
   "id": "07943cd4",
   "metadata": {},
   "outputs": [],
   "source": [
    "train = pd.DataFrame(columns=['uid', 'title', 'region', 'context', 'summary'])\n",
    "uid = 1000\n",
    "for data in TRAIN_DATA:\n",
    "    for agenda in data['context'].keys():\n",
    "        context = ''\n",
    "        for line in data['context'][agenda]:\n",
    "            context += data['context'][agenda][line]\n",
    "            # context += ' '\n",
    "            context += '\\n\\n'  # 태깅할 때 보기 편하게 개행 2번\n",
    "            \n",
    "        train.loc[uid, 'uid'] = uid\n",
    "        train.loc[uid, 'title'] = data['title']\n",
    "        train.loc[uid, 'region'] = data['region']\n",
    "        train.loc[uid, 'context'] = context[:-1]\n",
    "        train.loc[uid, 'summary'] = data['label'][agenda]['summary']\n",
    "        uid += 1"
   ]
  },
  {
   "cell_type": "code",
   "execution_count": 8,
   "id": "4e7d2e40-528c-4535-8209-30f68f34db12",
   "metadata": {},
   "outputs": [],
   "source": [
    "def get_total_id(full_df):\n",
    "    total_id = []\n",
    "    meeting_id = 1000\n",
    "    agenda_id = 1\n",
    "\n",
    "    for i in range(len(full_df)-1):     \n",
    "        if len(str(agenda_id)) == 1:\n",
    "            id = str(meeting_id) + '0' + str(agenda_id)\n",
    "        else:\n",
    "            id = str(meeting_id) + str(agenda_id)\n",
    "        total_id.append(id)\n",
    "\n",
    "        if full_df['title'].iloc[i] == full_df['title'].iloc[i+1]:\n",
    "            agenda_id += 1\n",
    "        else:        \n",
    "            meeting_id += 1\n",
    "            agenda_id = 1\n",
    "\n",
    "    # 마지막 agenda 더하기\n",
    "    if len(str(agenda_id)) == 1:\n",
    "        id = str(meeting_id) + '0' + str(agenda_id)\n",
    "    else:\n",
    "        id = str(meeting_id) + str(agenda_id)    \n",
    "    total_id.append(id)\n",
    "    \n",
    "    return total_id"
   ]
  },
  {
   "cell_type": "code",
   "execution_count": 9,
   "id": "2cf185e4-8366-481f-a4b2-eb9467187a5c",
   "metadata": {},
   "outputs": [
    {
     "name": "stdout",
     "output_type": "stream",
     "text": [
      "2994\n",
      "100001\n",
      "146210\n",
      "['146201', '146202', '146203', '146204', '146205', '146206', '146207', '146208', '146209', '146210']\n"
     ]
    }
   ],
   "source": [
    "total_id = get_total_id(train)\n",
    "train['total_id'] = total_id\n",
    "\n",
    "print(len(total_id))\n",
    "print(total_id[0])\n",
    "print(total_id[-1])\n",
    "print(total_id[-10:])"
   ]
  },
  {
   "cell_type": "code",
   "execution_count": 10,
   "id": "4768172a",
   "metadata": {},
   "outputs": [
    {
     "data": {
      "text/html": [
       "<div>\n",
       "<style scoped>\n",
       "    .dataframe tbody tr th:only-of-type {\n",
       "        vertical-align: middle;\n",
       "    }\n",
       "\n",
       "    .dataframe tbody tr th {\n",
       "        vertical-align: top;\n",
       "    }\n",
       "\n",
       "    .dataframe thead th {\n",
       "        text-align: right;\n",
       "    }\n",
       "</style>\n",
       "<table border=\"1\" class=\"dataframe\">\n",
       "  <thead>\n",
       "    <tr style=\"text-align: right;\">\n",
       "      <th></th>\n",
       "      <th>uid</th>\n",
       "      <th>title</th>\n",
       "      <th>region</th>\n",
       "      <th>context</th>\n",
       "      <th>summary</th>\n",
       "      <th>total_id</th>\n",
       "      <th>total</th>\n",
       "    </tr>\n",
       "  </thead>\n",
       "  <tbody>\n",
       "    <tr>\n",
       "      <th>1000</th>\n",
       "      <td>1000</td>\n",
       "      <td>제207회 완주군의회(임시회) 제 1 차 본회의회의록</td>\n",
       "      <td>완주</td>\n",
       "      <td>의석을 정돈하여 주시기 바랍니다. 성원이 되었으므로 제207회 완주군의회 임시회 제...</td>\n",
       "      <td>제207회 완주군의회 임시회 제1차 본회의 개의 선포.</td>\n",
       "      <td>100001</td>\n",
       "      <td>@제207회 완주군의회(임시회) 제 1 차 본회의회의록@\\n\\n의석을 정돈하여 주시...</td>\n",
       "    </tr>\n",
       "    <tr>\n",
       "      <th>1001</th>\n",
       "      <td>1001</td>\n",
       "      <td>제207회 완주군의회(임시회) 제 1 차 본회의회의록</td>\n",
       "      <td>완주</td>\n",
       "      <td>의사팀장 수고하셨습니다. 먼저 의사일정 제1항 제207회 완주군의회 임시회 회기 결...</td>\n",
       "      <td>제207회 완주군의회 임시회 회기는 8월 26일부터 9월 4일까지 10일간으로 가결됨.</td>\n",
       "      <td>100002</td>\n",
       "      <td>@제207회 완주군의회(임시회) 제 1 차 본회의회의록@\\n\\n의사팀장 수고하셨습니...</td>\n",
       "    </tr>\n",
       "    <tr>\n",
       "      <th>1002</th>\n",
       "      <td>1002</td>\n",
       "      <td>제207회 완주군의회(임시회) 제 1 차 본회의회의록</td>\n",
       "      <td>완주</td>\n",
       "      <td>다음은 의사일정 제2항 제207회 완주군의회 임시회 회의록 서명의원 선출의 건을 상...</td>\n",
       "      <td>제207회 완주군의회 임시회 회의록 서명의원으로 최등원 의원과 박웅배 의원이 선출됨.</td>\n",
       "      <td>100003</td>\n",
       "      <td>@제207회 완주군의회(임시회) 제 1 차 본회의회의록@\\n\\n다음은 의사일정 제2...</td>\n",
       "    </tr>\n",
       "    <tr>\n",
       "      <th>1003</th>\n",
       "      <td>1003</td>\n",
       "      <td>제207회 완주군의회(임시회) 제 1 차 본회의회의록</td>\n",
       "      <td>완주</td>\n",
       "      <td>다음은 의사일정 제3항 본회의 휴회의 건을 상정합니다. 상임의원회 의정활동을 위하여...</td>\n",
       "      <td>8월 27일부터 9월 3일까지 8일간 휴회가 가결됨. 제2차 본회의는 9월 4일 오...</td>\n",
       "      <td>100004</td>\n",
       "      <td>@제207회 완주군의회(임시회) 제 1 차 본회의회의록@\\n\\n다음은 의사일정 제3...</td>\n",
       "    </tr>\n",
       "    <tr>\n",
       "      <th>1004</th>\n",
       "      <td>1004</td>\n",
       "      <td>제251회 완주군의회(제1차 정례회) 제1차 본 회 의 회 의 록</td>\n",
       "      <td>완주</td>\n",
       "      <td>의석을 정돈하여 주시기 바랍니다. 성원이 되었으므로 제251회 완주군의회 제1차 정...</td>\n",
       "      <td>제251회 완주군의회 제1차 정례회 제1차 본회의 개의 선포.</td>\n",
       "      <td>100101</td>\n",
       "      <td>@제251회 완주군의회(제1차 정례회) 제1차 본 회 의 회 의 록@\\n\\n의석을 ...</td>\n",
       "    </tr>\n",
       "  </tbody>\n",
       "</table>\n",
       "</div>"
      ],
      "text/plain": [
       "       uid                                 title region  \\\n",
       "1000  1000         제207회 완주군의회(임시회) 제 1 차 본회의회의록     완주   \n",
       "1001  1001         제207회 완주군의회(임시회) 제 1 차 본회의회의록     완주   \n",
       "1002  1002         제207회 완주군의회(임시회) 제 1 차 본회의회의록     완주   \n",
       "1003  1003         제207회 완주군의회(임시회) 제 1 차 본회의회의록     완주   \n",
       "1004  1004  제251회 완주군의회(제1차 정례회) 제1차 본 회 의 회 의 록     완주   \n",
       "\n",
       "                                                context  \\\n",
       "1000  의석을 정돈하여 주시기 바랍니다. 성원이 되었으므로 제207회 완주군의회 임시회 제...   \n",
       "1001  의사팀장 수고하셨습니다. 먼저 의사일정 제1항 제207회 완주군의회 임시회 회기 결...   \n",
       "1002  다음은 의사일정 제2항 제207회 완주군의회 임시회 회의록 서명의원 선출의 건을 상...   \n",
       "1003  다음은 의사일정 제3항 본회의 휴회의 건을 상정합니다. 상임의원회 의정활동을 위하여...   \n",
       "1004  의석을 정돈하여 주시기 바랍니다. 성원이 되었으므로 제251회 완주군의회 제1차 정...   \n",
       "\n",
       "                                                summary total_id  \\\n",
       "1000                     제207회 완주군의회 임시회 제1차 본회의 개의 선포.   100001   \n",
       "1001   제207회 완주군의회 임시회 회기는 8월 26일부터 9월 4일까지 10일간으로 가결됨.   100002   \n",
       "1002    제207회 완주군의회 임시회 회의록 서명의원으로 최등원 의원과 박웅배 의원이 선출됨.   100003   \n",
       "1003  8월 27일부터 9월 3일까지 8일간 휴회가 가결됨. 제2차 본회의는 9월 4일 오...   100004   \n",
       "1004                 제251회 완주군의회 제1차 정례회 제1차 본회의 개의 선포.   100101   \n",
       "\n",
       "                                                  total  \n",
       "1000  @제207회 완주군의회(임시회) 제 1 차 본회의회의록@\\n\\n의석을 정돈하여 주시...  \n",
       "1001  @제207회 완주군의회(임시회) 제 1 차 본회의회의록@\\n\\n의사팀장 수고하셨습니...  \n",
       "1002  @제207회 완주군의회(임시회) 제 1 차 본회의회의록@\\n\\n다음은 의사일정 제2...  \n",
       "1003  @제207회 완주군의회(임시회) 제 1 차 본회의회의록@\\n\\n다음은 의사일정 제3...  \n",
       "1004  @제251회 완주군의회(제1차 정례회) 제1차 본 회 의 회 의 록@\\n\\n의석을 ...  "
      ]
     },
     "execution_count": 10,
     "metadata": {},
     "output_type": "execute_result"
    }
   ],
   "source": [
    "# 본문에 title 추가하기\n",
    "train['total'] = '@' + train.title + '@' + '\\n\\n' + train.context\n",
    "\n",
    "train.head()"
   ]
  },
  {
   "cell_type": "markdown",
   "id": "a6aa06a1-f2ad-4faa-bef9-a799a0295db1",
   "metadata": {},
   "source": [
    "### 지역별로 나누기"
   ]
  },
  {
   "cell_type": "code",
   "execution_count": 11,
   "id": "81dfe843-ffc0-427b-9cea-3738235d6366",
   "metadata": {},
   "outputs": [
    {
     "data": {
      "text/plain": [
       "['음성', '완주', '청주']"
      ]
     },
     "execution_count": 11,
     "metadata": {},
     "output_type": "execute_result"
    }
   ],
   "source": [
    "region = train['region']\n",
    "region = list(set(region))\n",
    "region"
   ]
  },
  {
   "cell_type": "code",
   "execution_count": 12,
   "id": "9b980eac-c120-4f98-b9ed-1c273f8f04f8",
   "metadata": {},
   "outputs": [
    {
     "data": {
      "text/html": [
       "<div>\n",
       "<style scoped>\n",
       "    .dataframe tbody tr th:only-of-type {\n",
       "        vertical-align: middle;\n",
       "    }\n",
       "\n",
       "    .dataframe tbody tr th {\n",
       "        vertical-align: top;\n",
       "    }\n",
       "\n",
       "    .dataframe thead th {\n",
       "        text-align: right;\n",
       "    }\n",
       "</style>\n",
       "<table border=\"1\" class=\"dataframe\">\n",
       "  <thead>\n",
       "    <tr style=\"text-align: right;\">\n",
       "      <th></th>\n",
       "      <th>uid</th>\n",
       "      <th>title</th>\n",
       "      <th>context</th>\n",
       "      <th>summary</th>\n",
       "      <th>total_id</th>\n",
       "      <th>total</th>\n",
       "    </tr>\n",
       "    <tr>\n",
       "      <th>region</th>\n",
       "      <th></th>\n",
       "      <th></th>\n",
       "      <th></th>\n",
       "      <th></th>\n",
       "      <th></th>\n",
       "      <th></th>\n",
       "    </tr>\n",
       "  </thead>\n",
       "  <tbody>\n",
       "    <tr>\n",
       "      <th>완주</th>\n",
       "      <td>861</td>\n",
       "      <td>861</td>\n",
       "      <td>861</td>\n",
       "      <td>861</td>\n",
       "      <td>861</td>\n",
       "      <td>861</td>\n",
       "    </tr>\n",
       "    <tr>\n",
       "      <th>음성</th>\n",
       "      <td>1938</td>\n",
       "      <td>1938</td>\n",
       "      <td>1938</td>\n",
       "      <td>1938</td>\n",
       "      <td>1938</td>\n",
       "      <td>1938</td>\n",
       "    </tr>\n",
       "    <tr>\n",
       "      <th>청주</th>\n",
       "      <td>195</td>\n",
       "      <td>195</td>\n",
       "      <td>195</td>\n",
       "      <td>195</td>\n",
       "      <td>195</td>\n",
       "      <td>195</td>\n",
       "    </tr>\n",
       "  </tbody>\n",
       "</table>\n",
       "</div>"
      ],
      "text/plain": [
       "         uid  title  context  summary  total_id  total\n",
       "region                                                \n",
       "완주       861    861      861      861       861    861\n",
       "음성      1938   1938     1938     1938      1938   1938\n",
       "청주       195    195      195      195       195    195"
      ]
     },
     "execution_count": 12,
     "metadata": {},
     "output_type": "execute_result"
    }
   ],
   "source": [
    "grouped = train.groupby('region')\n",
    "grouped.count()"
   ]
  },
  {
   "cell_type": "code",
   "execution_count": 13,
   "id": "bd52e3aa-d280-40fd-be9f-9e1a1104e037",
   "metadata": {},
   "outputs": [
    {
     "name": "stdout",
     "output_type": "stream",
     "text": [
      "861\n",
      "1938\n",
      "195\n"
     ]
    }
   ],
   "source": [
    "region_df1 = train[train['region'] == '완주']\n",
    "region_df2 = train[train['region'] == '음성']\n",
    "region_df3 = train[train['region'] == '청주']\n",
    "\n",
    "print(len(region_df1))\n",
    "print(len(region_df2))\n",
    "print(len(region_df3))"
   ]
  },
  {
   "cell_type": "code",
   "execution_count": 14,
   "id": "bd08165e-aaea-486d-a213-f2fb99389d57",
   "metadata": {},
   "outputs": [
    {
     "data": {
      "text/html": [
       "<div>\n",
       "<style scoped>\n",
       "    .dataframe tbody tr th:only-of-type {\n",
       "        vertical-align: middle;\n",
       "    }\n",
       "\n",
       "    .dataframe tbody tr th {\n",
       "        vertical-align: top;\n",
       "    }\n",
       "\n",
       "    .dataframe thead th {\n",
       "        text-align: right;\n",
       "    }\n",
       "</style>\n",
       "<table border=\"1\" class=\"dataframe\">\n",
       "  <thead>\n",
       "    <tr style=\"text-align: right;\">\n",
       "      <th></th>\n",
       "      <th>uid</th>\n",
       "      <th>region</th>\n",
       "      <th>context</th>\n",
       "      <th>summary</th>\n",
       "      <th>total_id</th>\n",
       "      <th>total</th>\n",
       "    </tr>\n",
       "    <tr>\n",
       "      <th>title</th>\n",
       "      <th></th>\n",
       "      <th></th>\n",
       "      <th></th>\n",
       "      <th></th>\n",
       "      <th></th>\n",
       "      <th></th>\n",
       "    </tr>\n",
       "  </thead>\n",
       "  <tbody>\n",
       "    <tr>\n",
       "      <th>제101회 전라북도 완주군의회 (임시회) 제1호 본 회 의 회 의 록</th>\n",
       "      <td>6</td>\n",
       "      <td>6</td>\n",
       "      <td>6</td>\n",
       "      <td>6</td>\n",
       "      <td>6</td>\n",
       "      <td>6</td>\n",
       "    </tr>\n",
       "    <tr>\n",
       "      <th>제102회 전라북도 완주군의회 (임시회) 제1호 본 회 의 회 의 록</th>\n",
       "      <td>5</td>\n",
       "      <td>5</td>\n",
       "      <td>5</td>\n",
       "      <td>5</td>\n",
       "      <td>5</td>\n",
       "      <td>5</td>\n",
       "    </tr>\n",
       "    <tr>\n",
       "      <th>제103회 전라북도 완주군의회 (임시회) 제1호 본 회 의 회 의 록</th>\n",
       "      <td>6</td>\n",
       "      <td>6</td>\n",
       "      <td>6</td>\n",
       "      <td>6</td>\n",
       "      <td>6</td>\n",
       "      <td>6</td>\n",
       "    </tr>\n",
       "    <tr>\n",
       "      <th>제105회 전라북도 완주군의회 (임시회) 제2호 본 회 의 회 의 록</th>\n",
       "      <td>3</td>\n",
       "      <td>3</td>\n",
       "      <td>3</td>\n",
       "      <td>3</td>\n",
       "      <td>3</td>\n",
       "      <td>3</td>\n",
       "    </tr>\n",
       "    <tr>\n",
       "      <th>제106회 전라북도 완주군의회 (임시회) 제1호 본 회 의 회 의 록</th>\n",
       "      <td>5</td>\n",
       "      <td>5</td>\n",
       "      <td>5</td>\n",
       "      <td>5</td>\n",
       "      <td>5</td>\n",
       "      <td>5</td>\n",
       "    </tr>\n",
       "    <tr>\n",
       "      <th>...</th>\n",
       "      <td>...</td>\n",
       "      <td>...</td>\n",
       "      <td>...</td>\n",
       "      <td>...</td>\n",
       "      <td>...</td>\n",
       "      <td>...</td>\n",
       "    </tr>\n",
       "    <tr>\n",
       "      <th>제96회 전라북도 완주군의회 (임시회) 제1호 본 회 의 회 의 록</th>\n",
       "      <td>6</td>\n",
       "      <td>6</td>\n",
       "      <td>6</td>\n",
       "      <td>6</td>\n",
       "      <td>6</td>\n",
       "      <td>6</td>\n",
       "    </tr>\n",
       "    <tr>\n",
       "      <th>제98회 전라북도 완주군의회 (임시회) 제1호 본 회 의 회 의 록</th>\n",
       "      <td>5</td>\n",
       "      <td>5</td>\n",
       "      <td>5</td>\n",
       "      <td>5</td>\n",
       "      <td>5</td>\n",
       "      <td>5</td>\n",
       "    </tr>\n",
       "    <tr>\n",
       "      <th>제98회 전라북도 완주군의회 (임시회) 제2호 본 회 의 회 의 록</th>\n",
       "      <td>4</td>\n",
       "      <td>4</td>\n",
       "      <td>4</td>\n",
       "      <td>4</td>\n",
       "      <td>4</td>\n",
       "      <td>4</td>\n",
       "    </tr>\n",
       "    <tr>\n",
       "      <th>제99회 전라북도 완주군의회 (제2차 정례회) 제1호 본 회 의 회 의 록</th>\n",
       "      <td>7</td>\n",
       "      <td>7</td>\n",
       "      <td>7</td>\n",
       "      <td>7</td>\n",
       "      <td>7</td>\n",
       "      <td>7</td>\n",
       "    </tr>\n",
       "    <tr>\n",
       "      <th>제99회 전라북도 완주군의회 (제2차 정례회) 제2호 본 회 의 회 의 록</th>\n",
       "      <td>6</td>\n",
       "      <td>6</td>\n",
       "      <td>6</td>\n",
       "      <td>6</td>\n",
       "      <td>6</td>\n",
       "      <td>6</td>\n",
       "    </tr>\n",
       "  </tbody>\n",
       "</table>\n",
       "<p>165 rows × 6 columns</p>\n",
       "</div>"
      ],
      "text/plain": [
       "                                           uid  region  context  summary  \\\n",
       "title                                                                      \n",
       "제101회 전라북도 완주군의회 (임시회) 제1호 본 회 의 회 의 록       6       6        6        6   \n",
       "제102회 전라북도 완주군의회 (임시회) 제1호 본 회 의 회 의 록       5       5        5        5   \n",
       "제103회 전라북도 완주군의회 (임시회) 제1호 본 회 의 회 의 록       6       6        6        6   \n",
       "제105회 전라북도 완주군의회 (임시회) 제2호 본 회 의 회 의 록       3       3        3        3   \n",
       "제106회 전라북도 완주군의회 (임시회) 제1호 본 회 의 회 의 록       5       5        5        5   \n",
       "...                                        ...     ...      ...      ...   \n",
       "제96회 전라북도 완주군의회 (임시회) 제1호 본 회 의 회 의 록        6       6        6        6   \n",
       "제98회 전라북도 완주군의회 (임시회) 제1호 본 회 의 회 의 록        5       5        5        5   \n",
       "제98회 전라북도 완주군의회 (임시회) 제2호 본 회 의 회 의 록        4       4        4        4   \n",
       "제99회 전라북도 완주군의회 (제2차 정례회) 제1호 본 회 의 회 의 록    7       7        7        7   \n",
       "제99회 전라북도 완주군의회 (제2차 정례회) 제2호 본 회 의 회 의 록    6       6        6        6   \n",
       "\n",
       "                                           total_id  total  \n",
       "title                                                       \n",
       "제101회 전라북도 완주군의회 (임시회) 제1호 본 회 의 회 의 록            6      6  \n",
       "제102회 전라북도 완주군의회 (임시회) 제1호 본 회 의 회 의 록            5      5  \n",
       "제103회 전라북도 완주군의회 (임시회) 제1호 본 회 의 회 의 록            6      6  \n",
       "제105회 전라북도 완주군의회 (임시회) 제2호 본 회 의 회 의 록            3      3  \n",
       "제106회 전라북도 완주군의회 (임시회) 제1호 본 회 의 회 의 록            5      5  \n",
       "...                                             ...    ...  \n",
       "제96회 전라북도 완주군의회 (임시회) 제1호 본 회 의 회 의 록             6      6  \n",
       "제98회 전라북도 완주군의회 (임시회) 제1호 본 회 의 회 의 록             5      5  \n",
       "제98회 전라북도 완주군의회 (임시회) 제2호 본 회 의 회 의 록             4      4  \n",
       "제99회 전라북도 완주군의회 (제2차 정례회) 제1호 본 회 의 회 의 록         7      7  \n",
       "제99회 전라북도 완주군의회 (제2차 정례회) 제2호 본 회 의 회 의 록         6      6  \n",
       "\n",
       "[165 rows x 6 columns]"
      ]
     },
     "execution_count": 14,
     "metadata": {},
     "output_type": "execute_result"
    }
   ],
   "source": [
    "# 완주군 회의 개수\n",
    "region_df1.groupby('title').count()"
   ]
  },
  {
   "cell_type": "code",
   "execution_count": 15,
   "id": "1f757114-c7b9-4159-98ea-a9eed2778da1",
   "metadata": {},
   "outputs": [],
   "source": [
    "region_df1.to_csv('../data/raw_data/wanju.csv',mode='w', index=False)"
   ]
  },
  {
   "cell_type": "markdown",
   "id": "82230838-7f08-4542-a391-b2e66b494b02",
   "metadata": {},
   "source": [
    "### uid와 context만 뽑아 태깅 문서로 저장 (화자 정보는 날아감) - train data"
   ]
  },
  {
   "cell_type": "code",
   "execution_count": 16,
   "id": "c2378efd-b7ab-40a9-9677-e0c96b375ec6",
   "metadata": {},
   "outputs": [],
   "source": [
    "def transform_df(train):\n",
    "    train_doc = pd.DataFrame()\n",
    "    train_doc['document_identifier'] = train['total_id']\n",
    "    train_doc['context'] = train['context']\n",
    "    train_doc['document_text'] = train['total']\n",
    "    print(\"train data 개수: \", len(train_doc))\n",
    "    \n",
    "    return train_doc"
   ]
  },
  {
   "cell_type": "code",
   "execution_count": 17,
   "id": "9309d4ad-e759-4373-ba55-ce51efdceb5a",
   "metadata": {},
   "outputs": [
    {
     "name": "stdout",
     "output_type": "stream",
     "text": [
      "train data 개수:  861\n",
      "train data 개수:  1938\n",
      "train data 개수:  195\n"
     ]
    }
   ],
   "source": [
    "# 지역별 데이터 저장\n",
    "\n",
    "save_file1 = \"../data/raw_data/region_doc_완주.csv\"\n",
    "trans_df1 = transform_df(region_df1)\n",
    "trans_df1.to_csv(save_file1, header=True, index=False)\n",
    "\n",
    "save_file2 = \"../data/raw_data/region_doc_음성.csv\"\n",
    "trans_df2 = transform_df(region_df2)\n",
    "trans_df2.to_csv(save_file2, header=True, index=False)\n",
    "\n",
    "\n",
    "save_file3 = \"../data/raw_data/region_doc_청주.csv\"\n",
    "trans_df3 = transform_df(region_df3)\n",
    "trans_df3.to_csv(save_file3, header=True, index=False)"
   ]
  },
  {
   "cell_type": "code",
   "execution_count": 22,
   "id": "2982866b",
   "metadata": {},
   "outputs": [
    {
     "data": {
      "text/plain": [
       "(861, 3)"
      ]
     },
     "execution_count": 22,
     "metadata": {},
     "output_type": "execute_result"
    }
   ],
   "source": [
    "trans_df1.shape"
   ]
  }
 ],
 "metadata": {
  "interpreter": {
   "hash": "d4d1e4263499bec80672ea0156c357c1ee493ec2b1c70f0acce89fc37c4a6abe"
  },
  "kernelspec": {
   "display_name": "Python 3",
   "language": "python",
   "name": "python3"
  },
  "language_info": {
   "codemirror_mode": {
    "name": "ipython",
    "version": 3
   },
   "file_extension": ".py",
   "mimetype": "text/x-python",
   "name": "python",
   "nbconvert_exporter": "python",
   "pygments_lexer": "ipython3",
   "version": "3.8.5"
  }
 },
 "nbformat": 4,
 "nbformat_minor": 5
}
